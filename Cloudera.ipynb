{
 "cells": [
  {
   "cell_type": "code",
   "execution_count": 1,
   "metadata": {},
   "outputs": [],
   "source": [
    "import pandas as pd\n",
    "import numpy as np\n",
    "import matplotlib.pyplot as plt\n",
    "import seaborn as sns\n",
    "%matplotlib inline\n",
    "import scipy.stats as stats"
   ]
  },
  {
   "cell_type": "code",
   "execution_count": 2,
   "metadata": {},
   "outputs": [
    {
     "data": {
      "text/html": [
       "<div>\n",
       "<style scoped>\n",
       "    .dataframe tbody tr th:only-of-type {\n",
       "        vertical-align: middle;\n",
       "    }\n",
       "\n",
       "    .dataframe tbody tr th {\n",
       "        vertical-align: top;\n",
       "    }\n",
       "\n",
       "    .dataframe thead th {\n",
       "        text-align: right;\n",
       "    }\n",
       "</style>\n",
       "<table border=\"1\" class=\"dataframe\">\n",
       "  <thead>\n",
       "    <tr style=\"text-align: right;\">\n",
       "      <th></th>\n",
       "      <th>DRG Definition</th>\n",
       "      <th>Total Discharges</th>\n",
       "      <th>Average Covered Charges</th>\n",
       "      <th>Average Total Payments</th>\n",
       "      <th>Average Medicare Payments</th>\n",
       "    </tr>\n",
       "  </thead>\n",
       "  <tbody>\n",
       "    <tr>\n",
       "      <th>0</th>\n",
       "      <td>039 - EXTRACRANIAL PROCEDURES W/O CC/MCC</td>\n",
       "      <td>37861</td>\n",
       "      <td>29228.55368</td>\n",
       "      <td>6902.381289</td>\n",
       "      <td>5514.435910</td>\n",
       "    </tr>\n",
       "    <tr>\n",
       "      <th>1</th>\n",
       "      <td>057 - DEGENERATIVE NERVOUS SYSTEM DISORDERS W/...</td>\n",
       "      <td>37927</td>\n",
       "      <td>23924.98059</td>\n",
       "      <td>6809.799325</td>\n",
       "      <td>5791.920242</td>\n",
       "    </tr>\n",
       "    <tr>\n",
       "      <th>2</th>\n",
       "      <td>064 - INTRACRANIAL HEMORRHAGE OR CEREBRAL INFA...</td>\n",
       "      <td>68163</td>\n",
       "      <td>49186.95644</td>\n",
       "      <td>13614.616130</td>\n",
       "      <td>12415.825360</td>\n",
       "    </tr>\n",
       "    <tr>\n",
       "      <th>3</th>\n",
       "      <td>065 - INTRACRANIAL HEMORRHAGE OR CEREBRAL INFA...</td>\n",
       "      <td>110983</td>\n",
       "      <td>30371.27399</td>\n",
       "      <td>8037.269492</td>\n",
       "      <td>6858.689088</td>\n",
       "    </tr>\n",
       "    <tr>\n",
       "      <th>4</th>\n",
       "      <td>066 - INTRACRANIAL HEMORRHAGE OR CEREBRAL INFA...</td>\n",
       "      <td>62346</td>\n",
       "      <td>23300.06199</td>\n",
       "      <td>5762.881821</td>\n",
       "      <td>4508.202659</td>\n",
       "    </tr>\n",
       "    <tr>\n",
       "      <th>5</th>\n",
       "      <td>069 - TRANSIENT ISCHEMIA</td>\n",
       "      <td>85184</td>\n",
       "      <td>21518.85851</td>\n",
       "      <td>5073.717435</td>\n",
       "      <td>3964.328853</td>\n",
       "    </tr>\n",
       "    <tr>\n",
       "      <th>6</th>\n",
       "      <td>074 - CRANIAL &amp; PERIPHERAL NERVE DISORDERS W/O...</td>\n",
       "      <td>29646</td>\n",
       "      <td>24354.26867</td>\n",
       "      <td>6374.517405</td>\n",
       "      <td>5219.889395</td>\n",
       "    </tr>\n",
       "    <tr>\n",
       "      <th>7</th>\n",
       "      <td>101 - SEIZURES W/O MCC</td>\n",
       "      <td>55428</td>\n",
       "      <td>21811.26203</td>\n",
       "      <td>5705.502869</td>\n",
       "      <td>4628.453020</td>\n",
       "    </tr>\n",
       "    <tr>\n",
       "      <th>8</th>\n",
       "      <td>149 - DYSEQUILIBRIUM</td>\n",
       "      <td>31020</td>\n",
       "      <td>18565.30010</td>\n",
       "      <td>4602.074790</td>\n",
       "      <td>3452.496357</td>\n",
       "    </tr>\n",
       "    <tr>\n",
       "      <th>9</th>\n",
       "      <td>176 - PULMONARY EMBOLISM W/O MCC</td>\n",
       "      <td>39839</td>\n",
       "      <td>26586.87856</td>\n",
       "      <td>7344.599463</td>\n",
       "      <td>6141.055574</td>\n",
       "    </tr>\n",
       "  </tbody>\n",
       "</table>\n",
       "</div>"
      ],
      "text/plain": [
       "                                      DRG Definition  Total Discharges  \\\n",
       "0           039 - EXTRACRANIAL PROCEDURES W/O CC/MCC             37861   \n",
       "1  057 - DEGENERATIVE NERVOUS SYSTEM DISORDERS W/...             37927   \n",
       "2  064 - INTRACRANIAL HEMORRHAGE OR CEREBRAL INFA...             68163   \n",
       "3  065 - INTRACRANIAL HEMORRHAGE OR CEREBRAL INFA...            110983   \n",
       "4  066 - INTRACRANIAL HEMORRHAGE OR CEREBRAL INFA...             62346   \n",
       "5                           069 - TRANSIENT ISCHEMIA             85184   \n",
       "6  074 - CRANIAL & PERIPHERAL NERVE DISORDERS W/O...             29646   \n",
       "7                             101 - SEIZURES W/O MCC             55428   \n",
       "8                               149 - DYSEQUILIBRIUM             31020   \n",
       "9                   176 - PULMONARY EMBOLISM W/O MCC             39839   \n",
       "\n",
       "   Average Covered Charges  Average Total Payments  Average Medicare Payments  \n",
       "0              29228.55368             6902.381289                5514.435910  \n",
       "1              23924.98059             6809.799325                5791.920242  \n",
       "2              49186.95644            13614.616130               12415.825360  \n",
       "3              30371.27399             8037.269492                6858.689088  \n",
       "4              23300.06199             5762.881821                4508.202659  \n",
       "5              21518.85851             5073.717435                3964.328853  \n",
       "6              24354.26867             6374.517405                5219.889395  \n",
       "7              21811.26203             5705.502869                4628.453020  \n",
       "8              18565.30010             4602.074790                3452.496357  \n",
       "9              26586.87856             7344.599463                6141.055574  "
      ]
     },
     "execution_count": 2,
     "metadata": {},
     "output_type": "execute_result"
    }
   ],
   "source": [
    "data1=pd.read_csv(\"Medicare_Charge_Inpatient_DRG100_DRG_Summary_by_DRG_FY2011.csv\")\n",
    "data1.head(10)"
   ]
  },
  {
   "cell_type": "code",
   "execution_count": 3,
   "metadata": {},
   "outputs": [
    {
     "data": {
      "text/html": [
       "<div>\n",
       "<style scoped>\n",
       "    .dataframe tbody tr th:only-of-type {\n",
       "        vertical-align: middle;\n",
       "    }\n",
       "\n",
       "    .dataframe tbody tr th {\n",
       "        vertical-align: top;\n",
       "    }\n",
       "\n",
       "    .dataframe thead th {\n",
       "        text-align: right;\n",
       "    }\n",
       "</style>\n",
       "<table border=\"1\" class=\"dataframe\">\n",
       "  <thead>\n",
       "    <tr style=\"text-align: right;\">\n",
       "      <th></th>\n",
       "      <th>APC</th>\n",
       "      <th>Outpatient Services</th>\n",
       "      <th>Average Estimated Submitted Charges</th>\n",
       "      <th>Average Total Payments</th>\n",
       "    </tr>\n",
       "  </thead>\n",
       "  <tbody>\n",
       "    <tr>\n",
       "      <th>0</th>\n",
       "      <td>0012 - Level I Debridement &amp; Destruction</td>\n",
       "      <td>275987</td>\n",
       "      <td>74.202956</td>\n",
       "      <td>16.147079</td>\n",
       "    </tr>\n",
       "    <tr>\n",
       "      <th>1</th>\n",
       "      <td>0013 - Level II Debridement &amp; Destruction</td>\n",
       "      <td>434706</td>\n",
       "      <td>196.170070</td>\n",
       "      <td>56.133853</td>\n",
       "    </tr>\n",
       "    <tr>\n",
       "      <th>2</th>\n",
       "      <td>0015 - Level III Debridement &amp; Destruction</td>\n",
       "      <td>509576</td>\n",
       "      <td>326.503444</td>\n",
       "      <td>97.156250</td>\n",
       "    </tr>\n",
       "    <tr>\n",
       "      <th>3</th>\n",
       "      <td>0019 - Level I Excision/ Biopsy</td>\n",
       "      <td>27860</td>\n",
       "      <td>2013.181972</td>\n",
       "      <td>330.908369</td>\n",
       "    </tr>\n",
       "    <tr>\n",
       "      <th>4</th>\n",
       "      <td>0020 - Level II Excision/ Biopsy</td>\n",
       "      <td>40642</td>\n",
       "      <td>3161.457873</td>\n",
       "      <td>567.156154</td>\n",
       "    </tr>\n",
       "    <tr>\n",
       "      <th>5</th>\n",
       "      <td>0073 - Level III Endoscopy Upper Airway</td>\n",
       "      <td>9094</td>\n",
       "      <td>899.357815</td>\n",
       "      <td>297.217209</td>\n",
       "    </tr>\n",
       "    <tr>\n",
       "      <th>6</th>\n",
       "      <td>0074 - Level IV Endoscopy Upper Airway</td>\n",
       "      <td>17231</td>\n",
       "      <td>6840.643287</td>\n",
       "      <td>1471.799719</td>\n",
       "    </tr>\n",
       "    <tr>\n",
       "      <th>7</th>\n",
       "      <td>0078 - Level III Pulmonary Treatment</td>\n",
       "      <td>229101</td>\n",
       "      <td>545.202941</td>\n",
       "      <td>97.847774</td>\n",
       "    </tr>\n",
       "    <tr>\n",
       "      <th>8</th>\n",
       "      <td>0096 - Level II Noninvasive Physiologic Studies</td>\n",
       "      <td>218179</td>\n",
       "      <td>757.146165</td>\n",
       "      <td>104.735983</td>\n",
       "    </tr>\n",
       "    <tr>\n",
       "      <th>9</th>\n",
       "      <td>0203 - Level IV Nerve Injections</td>\n",
       "      <td>6748</td>\n",
       "      <td>3708.442756</td>\n",
       "      <td>840.664003</td>\n",
       "    </tr>\n",
       "  </tbody>\n",
       "</table>\n",
       "</div>"
      ],
      "text/plain": [
       "                                               APC  Outpatient Services  \\\n",
       "0         0012 - Level I Debridement & Destruction               275987   \n",
       "1        0013 - Level II Debridement & Destruction               434706   \n",
       "2       0015 - Level III Debridement & Destruction               509576   \n",
       "3                  0019 - Level I Excision/ Biopsy                27860   \n",
       "4                 0020 - Level II Excision/ Biopsy                40642   \n",
       "5          0073 - Level III Endoscopy Upper Airway                 9094   \n",
       "6           0074 - Level IV Endoscopy Upper Airway                17231   \n",
       "7             0078 - Level III Pulmonary Treatment               229101   \n",
       "8  0096 - Level II Noninvasive Physiologic Studies               218179   \n",
       "9                 0203 - Level IV Nerve Injections                 6748   \n",
       "\n",
       "   Average Estimated Submitted Charges  Average Total Payments  \n",
       "0                            74.202956               16.147079  \n",
       "1                           196.170070               56.133853  \n",
       "2                           326.503444               97.156250  \n",
       "3                          2013.181972              330.908369  \n",
       "4                          3161.457873              567.156154  \n",
       "5                           899.357815              297.217209  \n",
       "6                          6840.643287             1471.799719  \n",
       "7                           545.202941               97.847774  \n",
       "8                           757.146165              104.735983  \n",
       "9                          3708.442756              840.664003  "
      ]
     },
     "execution_count": 3,
     "metadata": {},
     "output_type": "execute_result"
    }
   ],
   "source": [
    "data2=pd.read_csv(\"Medicare_Charge_Outpatient_APC30_Summary_by_APC_CY2011.csv\")\n",
    "data2.head(10)"
   ]
  },
  {
   "cell_type": "code",
   "execution_count": 4,
   "metadata": {},
   "outputs": [
    {
     "data": {
      "text/html": [
       "<div>\n",
       "<style scoped>\n",
       "    .dataframe tbody tr th:only-of-type {\n",
       "        vertical-align: middle;\n",
       "    }\n",
       "\n",
       "    .dataframe tbody tr th {\n",
       "        vertical-align: top;\n",
       "    }\n",
       "\n",
       "    .dataframe thead th {\n",
       "        text-align: right;\n",
       "    }\n",
       "</style>\n",
       "<table border=\"1\" class=\"dataframe\">\n",
       "  <thead>\n",
       "    <tr style=\"text-align: right;\">\n",
       "      <th></th>\n",
       "      <th>DRG Definition</th>\n",
       "      <th>Provider Id</th>\n",
       "      <th>Provider Name</th>\n",
       "      <th>Provider Street Address</th>\n",
       "      <th>Provider City</th>\n",
       "      <th>Provider State</th>\n",
       "      <th>Provider Zip Code</th>\n",
       "      <th>Hospital Referral Region (HRR) Description</th>\n",
       "      <th>Total Discharges</th>\n",
       "      <th>Average Covered Charges</th>\n",
       "      <th>Average Total Payments</th>\n",
       "      <th>Average Medicare Payments</th>\n",
       "    </tr>\n",
       "  </thead>\n",
       "  <tbody>\n",
       "    <tr>\n",
       "      <th>0</th>\n",
       "      <td>039 - EXTRACRANIAL PROCEDURES W/O CC/MCC</td>\n",
       "      <td>10001</td>\n",
       "      <td>SOUTHEAST ALABAMA MEDICAL CENTER</td>\n",
       "      <td>1108 ROSS CLARK CIRCLE</td>\n",
       "      <td>DOTHAN</td>\n",
       "      <td>AL</td>\n",
       "      <td>36301</td>\n",
       "      <td>AL - Dothan</td>\n",
       "      <td>91</td>\n",
       "      <td>32963.07692</td>\n",
       "      <td>5777.241758</td>\n",
       "      <td>4763.736264</td>\n",
       "    </tr>\n",
       "    <tr>\n",
       "      <th>1</th>\n",
       "      <td>039 - EXTRACRANIAL PROCEDURES W/O CC/MCC</td>\n",
       "      <td>10005</td>\n",
       "      <td>MARSHALL MEDICAL CENTER SOUTH</td>\n",
       "      <td>2505 U S HIGHWAY 431 NORTH</td>\n",
       "      <td>BOAZ</td>\n",
       "      <td>AL</td>\n",
       "      <td>35957</td>\n",
       "      <td>AL - Birmingham</td>\n",
       "      <td>14</td>\n",
       "      <td>15131.85714</td>\n",
       "      <td>5787.571429</td>\n",
       "      <td>4976.714286</td>\n",
       "    </tr>\n",
       "    <tr>\n",
       "      <th>2</th>\n",
       "      <td>039 - EXTRACRANIAL PROCEDURES W/O CC/MCC</td>\n",
       "      <td>10006</td>\n",
       "      <td>ELIZA COFFEE MEMORIAL HOSPITAL</td>\n",
       "      <td>205 MARENGO STREET</td>\n",
       "      <td>FLORENCE</td>\n",
       "      <td>AL</td>\n",
       "      <td>35631</td>\n",
       "      <td>AL - Birmingham</td>\n",
       "      <td>24</td>\n",
       "      <td>37560.37500</td>\n",
       "      <td>5434.958333</td>\n",
       "      <td>4453.791667</td>\n",
       "    </tr>\n",
       "    <tr>\n",
       "      <th>3</th>\n",
       "      <td>039 - EXTRACRANIAL PROCEDURES W/O CC/MCC</td>\n",
       "      <td>10011</td>\n",
       "      <td>ST VINCENT'S EAST</td>\n",
       "      <td>50 MEDICAL PARK EAST DRIVE</td>\n",
       "      <td>BIRMINGHAM</td>\n",
       "      <td>AL</td>\n",
       "      <td>35235</td>\n",
       "      <td>AL - Birmingham</td>\n",
       "      <td>25</td>\n",
       "      <td>13998.28000</td>\n",
       "      <td>5417.560000</td>\n",
       "      <td>4129.160000</td>\n",
       "    </tr>\n",
       "    <tr>\n",
       "      <th>4</th>\n",
       "      <td>039 - EXTRACRANIAL PROCEDURES W/O CC/MCC</td>\n",
       "      <td>10016</td>\n",
       "      <td>SHELBY BAPTIST MEDICAL CENTER</td>\n",
       "      <td>1000 FIRST STREET NORTH</td>\n",
       "      <td>ALABASTER</td>\n",
       "      <td>AL</td>\n",
       "      <td>35007</td>\n",
       "      <td>AL - Birmingham</td>\n",
       "      <td>18</td>\n",
       "      <td>31633.27778</td>\n",
       "      <td>5658.333333</td>\n",
       "      <td>4851.444444</td>\n",
       "    </tr>\n",
       "    <tr>\n",
       "      <th>5</th>\n",
       "      <td>039 - EXTRACRANIAL PROCEDURES W/O CC/MCC</td>\n",
       "      <td>10023</td>\n",
       "      <td>BAPTIST MEDICAL CENTER SOUTH</td>\n",
       "      <td>2105 EAST SOUTH BOULEVARD</td>\n",
       "      <td>MONTGOMERY</td>\n",
       "      <td>AL</td>\n",
       "      <td>36116</td>\n",
       "      <td>AL - Montgomery</td>\n",
       "      <td>67</td>\n",
       "      <td>16920.79104</td>\n",
       "      <td>6653.805970</td>\n",
       "      <td>5374.149254</td>\n",
       "    </tr>\n",
       "    <tr>\n",
       "      <th>6</th>\n",
       "      <td>039 - EXTRACRANIAL PROCEDURES W/O CC/MCC</td>\n",
       "      <td>10029</td>\n",
       "      <td>EAST ALABAMA MEDICAL CENTER AND SNF</td>\n",
       "      <td>2000 PEPPERELL PARKWAY</td>\n",
       "      <td>OPELIKA</td>\n",
       "      <td>AL</td>\n",
       "      <td>36801</td>\n",
       "      <td>AL - Birmingham</td>\n",
       "      <td>51</td>\n",
       "      <td>11977.13725</td>\n",
       "      <td>5834.745098</td>\n",
       "      <td>4761.411765</td>\n",
       "    </tr>\n",
       "    <tr>\n",
       "      <th>7</th>\n",
       "      <td>039 - EXTRACRANIAL PROCEDURES W/O CC/MCC</td>\n",
       "      <td>10033</td>\n",
       "      <td>UNIVERSITY OF ALABAMA HOSPITAL</td>\n",
       "      <td>619 SOUTH 19TH STREET</td>\n",
       "      <td>BIRMINGHAM</td>\n",
       "      <td>AL</td>\n",
       "      <td>35233</td>\n",
       "      <td>AL - Birmingham</td>\n",
       "      <td>32</td>\n",
       "      <td>35841.09375</td>\n",
       "      <td>8031.125000</td>\n",
       "      <td>5858.500000</td>\n",
       "    </tr>\n",
       "    <tr>\n",
       "      <th>8</th>\n",
       "      <td>039 - EXTRACRANIAL PROCEDURES W/O CC/MCC</td>\n",
       "      <td>10039</td>\n",
       "      <td>HUNTSVILLE HOSPITAL</td>\n",
       "      <td>101 SIVLEY RD</td>\n",
       "      <td>HUNTSVILLE</td>\n",
       "      <td>AL</td>\n",
       "      <td>35801</td>\n",
       "      <td>AL - Huntsville</td>\n",
       "      <td>135</td>\n",
       "      <td>28523.39259</td>\n",
       "      <td>6113.385185</td>\n",
       "      <td>5228.400000</td>\n",
       "    </tr>\n",
       "    <tr>\n",
       "      <th>9</th>\n",
       "      <td>039 - EXTRACRANIAL PROCEDURES W/O CC/MCC</td>\n",
       "      <td>10040</td>\n",
       "      <td>GADSDEN REGIONAL MEDICAL CENTER</td>\n",
       "      <td>1007 GOODYEAR AVENUE</td>\n",
       "      <td>GADSDEN</td>\n",
       "      <td>AL</td>\n",
       "      <td>35903</td>\n",
       "      <td>AL - Birmingham</td>\n",
       "      <td>34</td>\n",
       "      <td>75233.38235</td>\n",
       "      <td>5541.058824</td>\n",
       "      <td>4386.941176</td>\n",
       "    </tr>\n",
       "  </tbody>\n",
       "</table>\n",
       "</div>"
      ],
      "text/plain": [
       "                             DRG Definition  Provider Id  \\\n",
       "0  039 - EXTRACRANIAL PROCEDURES W/O CC/MCC        10001   \n",
       "1  039 - EXTRACRANIAL PROCEDURES W/O CC/MCC        10005   \n",
       "2  039 - EXTRACRANIAL PROCEDURES W/O CC/MCC        10006   \n",
       "3  039 - EXTRACRANIAL PROCEDURES W/O CC/MCC        10011   \n",
       "4  039 - EXTRACRANIAL PROCEDURES W/O CC/MCC        10016   \n",
       "5  039 - EXTRACRANIAL PROCEDURES W/O CC/MCC        10023   \n",
       "6  039 - EXTRACRANIAL PROCEDURES W/O CC/MCC        10029   \n",
       "7  039 - EXTRACRANIAL PROCEDURES W/O CC/MCC        10033   \n",
       "8  039 - EXTRACRANIAL PROCEDURES W/O CC/MCC        10039   \n",
       "9  039 - EXTRACRANIAL PROCEDURES W/O CC/MCC        10040   \n",
       "\n",
       "                         Provider Name     Provider Street Address  \\\n",
       "0     SOUTHEAST ALABAMA MEDICAL CENTER      1108 ROSS CLARK CIRCLE   \n",
       "1        MARSHALL MEDICAL CENTER SOUTH  2505 U S HIGHWAY 431 NORTH   \n",
       "2       ELIZA COFFEE MEMORIAL HOSPITAL          205 MARENGO STREET   \n",
       "3                    ST VINCENT'S EAST  50 MEDICAL PARK EAST DRIVE   \n",
       "4        SHELBY BAPTIST MEDICAL CENTER     1000 FIRST STREET NORTH   \n",
       "5         BAPTIST MEDICAL CENTER SOUTH   2105 EAST SOUTH BOULEVARD   \n",
       "6  EAST ALABAMA MEDICAL CENTER AND SNF      2000 PEPPERELL PARKWAY   \n",
       "7       UNIVERSITY OF ALABAMA HOSPITAL       619 SOUTH 19TH STREET   \n",
       "8                  HUNTSVILLE HOSPITAL               101 SIVLEY RD   \n",
       "9      GADSDEN REGIONAL MEDICAL CENTER        1007 GOODYEAR AVENUE   \n",
       "\n",
       "  Provider City Provider State  Provider Zip Code  \\\n",
       "0        DOTHAN             AL              36301   \n",
       "1          BOAZ             AL              35957   \n",
       "2      FLORENCE             AL              35631   \n",
       "3    BIRMINGHAM             AL              35235   \n",
       "4     ALABASTER             AL              35007   \n",
       "5    MONTGOMERY             AL              36116   \n",
       "6       OPELIKA             AL              36801   \n",
       "7    BIRMINGHAM             AL              35233   \n",
       "8    HUNTSVILLE             AL              35801   \n",
       "9       GADSDEN             AL              35903   \n",
       "\n",
       "  Hospital Referral Region (HRR) Description  Total Discharges  \\\n",
       "0                                AL - Dothan                91   \n",
       "1                            AL - Birmingham                14   \n",
       "2                            AL - Birmingham                24   \n",
       "3                            AL - Birmingham                25   \n",
       "4                            AL - Birmingham                18   \n",
       "5                            AL - Montgomery                67   \n",
       "6                            AL - Birmingham                51   \n",
       "7                            AL - Birmingham                32   \n",
       "8                            AL - Huntsville               135   \n",
       "9                            AL - Birmingham                34   \n",
       "\n",
       "   Average Covered Charges  Average Total Payments  Average Medicare Payments  \n",
       "0              32963.07692             5777.241758                4763.736264  \n",
       "1              15131.85714             5787.571429                4976.714286  \n",
       "2              37560.37500             5434.958333                4453.791667  \n",
       "3              13998.28000             5417.560000                4129.160000  \n",
       "4              31633.27778             5658.333333                4851.444444  \n",
       "5              16920.79104             6653.805970                5374.149254  \n",
       "6              11977.13725             5834.745098                4761.411765  \n",
       "7              35841.09375             8031.125000                5858.500000  \n",
       "8              28523.39259             6113.385185                5228.400000  \n",
       "9              75233.38235             5541.058824                4386.941176  "
      ]
     },
     "execution_count": 4,
     "metadata": {},
     "output_type": "execute_result"
    }
   ],
   "source": [
    "data3=pd.read_csv(\"Medicare_Provider_Charge_Inpatient_DRG100_FY2011.csv\")\n",
    "data3.head(10)"
   ]
  },
  {
   "cell_type": "code",
   "execution_count": 5,
   "metadata": {},
   "outputs": [
    {
     "data": {
      "text/html": [
       "<div>\n",
       "<style scoped>\n",
       "    .dataframe tbody tr th:only-of-type {\n",
       "        vertical-align: middle;\n",
       "    }\n",
       "\n",
       "    .dataframe tbody tr th {\n",
       "        vertical-align: top;\n",
       "    }\n",
       "\n",
       "    .dataframe thead th {\n",
       "        text-align: right;\n",
       "    }\n",
       "</style>\n",
       "<table border=\"1\" class=\"dataframe\">\n",
       "  <thead>\n",
       "    <tr style=\"text-align: right;\">\n",
       "      <th></th>\n",
       "      <th>APC</th>\n",
       "      <th>Provider Id</th>\n",
       "      <th>Provider Name</th>\n",
       "      <th>Provider Street Address</th>\n",
       "      <th>Provider City</th>\n",
       "      <th>Provider State</th>\n",
       "      <th>Provider Zip Code</th>\n",
       "      <th>Hospital Referral Region (HRR) Description</th>\n",
       "      <th>Outpatient Services</th>\n",
       "      <th>Average  Estimated Submitted Charges</th>\n",
       "      <th>Average Total Payments</th>\n",
       "    </tr>\n",
       "  </thead>\n",
       "  <tbody>\n",
       "    <tr>\n",
       "      <th>0</th>\n",
       "      <td>0012 - Level I Debridement &amp; Destruction</td>\n",
       "      <td>10029</td>\n",
       "      <td>EAST ALABAMA MEDICAL CENTER AND SNF</td>\n",
       "      <td>2000 PEPPERELL PARKWAY</td>\n",
       "      <td>OPELIKA</td>\n",
       "      <td>AL</td>\n",
       "      <td>36801</td>\n",
       "      <td>AL - Birmingham</td>\n",
       "      <td>23</td>\n",
       "      <td>78.086957</td>\n",
       "      <td>21.910435</td>\n",
       "    </tr>\n",
       "    <tr>\n",
       "      <th>1</th>\n",
       "      <td>0012 - Level I Debridement &amp; Destruction</td>\n",
       "      <td>20024</td>\n",
       "      <td>CENTRAL PENINSULA GENERAL HOSPITAL</td>\n",
       "      <td>250 HOSPITAL PLACE</td>\n",
       "      <td>SOLDOTNA</td>\n",
       "      <td>AK</td>\n",
       "      <td>99669</td>\n",
       "      <td>AK - Anchorage</td>\n",
       "      <td>994</td>\n",
       "      <td>149.589749</td>\n",
       "      <td>36.623853</td>\n",
       "    </tr>\n",
       "    <tr>\n",
       "      <th>2</th>\n",
       "      <td>0012 - Level I Debridement &amp; Destruction</td>\n",
       "      <td>30064</td>\n",
       "      <td>UNIVERSITY OF ARIZONA MEDICAL CTR-UNIVERSIT, THE</td>\n",
       "      <td>1501 NORTH CAMPBELL AVENUE</td>\n",
       "      <td>TUCSON</td>\n",
       "      <td>AZ</td>\n",
       "      <td>85724</td>\n",
       "      <td>AZ - Tucson</td>\n",
       "      <td>1765</td>\n",
       "      <td>50.135411</td>\n",
       "      <td>14.541841</td>\n",
       "    </tr>\n",
       "    <tr>\n",
       "      <th>3</th>\n",
       "      <td>0012 - Level I Debridement &amp; Destruction</td>\n",
       "      <td>30088</td>\n",
       "      <td>BANNER BAYWOOD MEDICAL CENTER</td>\n",
       "      <td>6644 EAST BAYWOOD AVENUE</td>\n",
       "      <td>MESA</td>\n",
       "      <td>AZ</td>\n",
       "      <td>85206</td>\n",
       "      <td>AZ - Mesa</td>\n",
       "      <td>20</td>\n",
       "      <td>112.400000</td>\n",
       "      <td>23.736000</td>\n",
       "    </tr>\n",
       "    <tr>\n",
       "      <th>4</th>\n",
       "      <td>0012 - Level I Debridement &amp; Destruction</td>\n",
       "      <td>30111</td>\n",
       "      <td>UNIVERSITY OF ARIZONA MEDICAL CTR- SOUTH CAM, THE</td>\n",
       "      <td>2800 EAST AJO WAY</td>\n",
       "      <td>TUCSON</td>\n",
       "      <td>AZ</td>\n",
       "      <td>85713</td>\n",
       "      <td>AZ - Tucson</td>\n",
       "      <td>22</td>\n",
       "      <td>152.045455</td>\n",
       "      <td>16.569091</td>\n",
       "    </tr>\n",
       "    <tr>\n",
       "      <th>5</th>\n",
       "      <td>0012 - Level I Debridement &amp; Destruction</td>\n",
       "      <td>40016</td>\n",
       "      <td>UAMS MEDICAL CENTER</td>\n",
       "      <td>4301 WEST MARKHAM STREET MAIL SLOT 612</td>\n",
       "      <td>LITTLE ROCK</td>\n",
       "      <td>AR</td>\n",
       "      <td>72205</td>\n",
       "      <td>AR - Little Rock</td>\n",
       "      <td>3166</td>\n",
       "      <td>58.954668</td>\n",
       "      <td>13.573774</td>\n",
       "    </tr>\n",
       "    <tr>\n",
       "      <th>6</th>\n",
       "      <td>0012 - Level I Debridement &amp; Destruction</td>\n",
       "      <td>40017</td>\n",
       "      <td>NORTH ARKANSAS REGIONAL MEDICAL CENTER</td>\n",
       "      <td>620 NORTH MAIN STREET</td>\n",
       "      <td>HARRISON</td>\n",
       "      <td>AR</td>\n",
       "      <td>72601</td>\n",
       "      <td>AR - Springdale</td>\n",
       "      <td>438</td>\n",
       "      <td>143.639406</td>\n",
       "      <td>28.401027</td>\n",
       "    </tr>\n",
       "    <tr>\n",
       "      <th>7</th>\n",
       "      <td>0012 - Level I Debridement &amp; Destruction</td>\n",
       "      <td>40036</td>\n",
       "      <td>BAPTIST HEALTH MEDICAL CENTER NORTH LITTLE ROCK</td>\n",
       "      <td>3333 SPRINGHILL DRIVE</td>\n",
       "      <td>NORTH LITTLE RO</td>\n",
       "      <td>AR</td>\n",
       "      <td>72117</td>\n",
       "      <td>AR - Little Rock</td>\n",
       "      <td>21</td>\n",
       "      <td>115.630952</td>\n",
       "      <td>18.256667</td>\n",
       "    </tr>\n",
       "    <tr>\n",
       "      <th>8</th>\n",
       "      <td>0012 - Level I Debridement &amp; Destruction</td>\n",
       "      <td>40055</td>\n",
       "      <td>SPARKS REGIONAL MEDICAL CENTER</td>\n",
       "      <td>1001 TOWSON AVENUE</td>\n",
       "      <td>FORT SMITH</td>\n",
       "      <td>AR</td>\n",
       "      <td>72901</td>\n",
       "      <td>AR - Fort Smith</td>\n",
       "      <td>41</td>\n",
       "      <td>80.102439</td>\n",
       "      <td>13.172683</td>\n",
       "    </tr>\n",
       "    <tr>\n",
       "      <th>9</th>\n",
       "      <td>0012 - Level I Debridement &amp; Destruction</td>\n",
       "      <td>40118</td>\n",
       "      <td>NEA BAPTIST MEMORIAL HOSPITAL</td>\n",
       "      <td>3024 STADIUM BOULEVARD</td>\n",
       "      <td>JONESBORO</td>\n",
       "      <td>AR</td>\n",
       "      <td>72401</td>\n",
       "      <td>AR - Jonesboro</td>\n",
       "      <td>12</td>\n",
       "      <td>16.993333</td>\n",
       "      <td>12.646667</td>\n",
       "    </tr>\n",
       "  </tbody>\n",
       "</table>\n",
       "</div>"
      ],
      "text/plain": [
       "                                        APC  Provider Id  \\\n",
       "0  0012 - Level I Debridement & Destruction        10029   \n",
       "1  0012 - Level I Debridement & Destruction        20024   \n",
       "2  0012 - Level I Debridement & Destruction        30064   \n",
       "3  0012 - Level I Debridement & Destruction        30088   \n",
       "4  0012 - Level I Debridement & Destruction        30111   \n",
       "5  0012 - Level I Debridement & Destruction        40016   \n",
       "6  0012 - Level I Debridement & Destruction        40017   \n",
       "7  0012 - Level I Debridement & Destruction        40036   \n",
       "8  0012 - Level I Debridement & Destruction        40055   \n",
       "9  0012 - Level I Debridement & Destruction        40118   \n",
       "\n",
       "                                       Provider Name  \\\n",
       "0                EAST ALABAMA MEDICAL CENTER AND SNF   \n",
       "1                 CENTRAL PENINSULA GENERAL HOSPITAL   \n",
       "2   UNIVERSITY OF ARIZONA MEDICAL CTR-UNIVERSIT, THE   \n",
       "3                      BANNER BAYWOOD MEDICAL CENTER   \n",
       "4  UNIVERSITY OF ARIZONA MEDICAL CTR- SOUTH CAM, THE   \n",
       "5                                UAMS MEDICAL CENTER   \n",
       "6             NORTH ARKANSAS REGIONAL MEDICAL CENTER   \n",
       "7    BAPTIST HEALTH MEDICAL CENTER NORTH LITTLE ROCK   \n",
       "8                     SPARKS REGIONAL MEDICAL CENTER   \n",
       "9                      NEA BAPTIST MEMORIAL HOSPITAL   \n",
       "\n",
       "                  Provider Street Address    Provider City Provider State  \\\n",
       "0                  2000 PEPPERELL PARKWAY          OPELIKA             AL   \n",
       "1                      250 HOSPITAL PLACE         SOLDOTNA             AK   \n",
       "2              1501 NORTH CAMPBELL AVENUE           TUCSON             AZ   \n",
       "3                6644 EAST BAYWOOD AVENUE             MESA             AZ   \n",
       "4                       2800 EAST AJO WAY           TUCSON             AZ   \n",
       "5  4301 WEST MARKHAM STREET MAIL SLOT 612      LITTLE ROCK             AR   \n",
       "6                   620 NORTH MAIN STREET         HARRISON             AR   \n",
       "7                   3333 SPRINGHILL DRIVE  NORTH LITTLE RO             AR   \n",
       "8                      1001 TOWSON AVENUE       FORT SMITH             AR   \n",
       "9                  3024 STADIUM BOULEVARD        JONESBORO             AR   \n",
       "\n",
       "   Provider Zip Code Hospital Referral Region (HRR) Description  \\\n",
       "0              36801                            AL - Birmingham   \n",
       "1              99669                             AK - Anchorage   \n",
       "2              85724                                AZ - Tucson   \n",
       "3              85206                                  AZ - Mesa   \n",
       "4              85713                                AZ - Tucson   \n",
       "5              72205                           AR - Little Rock   \n",
       "6              72601                            AR - Springdale   \n",
       "7              72117                           AR - Little Rock   \n",
       "8              72901                            AR - Fort Smith   \n",
       "9              72401                             AR - Jonesboro   \n",
       "\n",
       "   Outpatient Services  Average  Estimated Submitted Charges  \\\n",
       "0                   23                             78.086957   \n",
       "1                  994                            149.589749   \n",
       "2                 1765                             50.135411   \n",
       "3                   20                            112.400000   \n",
       "4                   22                            152.045455   \n",
       "5                 3166                             58.954668   \n",
       "6                  438                            143.639406   \n",
       "7                   21                            115.630952   \n",
       "8                   41                             80.102439   \n",
       "9                   12                             16.993333   \n",
       "\n",
       "   Average Total Payments  \n",
       "0               21.910435  \n",
       "1               36.623853  \n",
       "2               14.541841  \n",
       "3               23.736000  \n",
       "4               16.569091  \n",
       "5               13.573774  \n",
       "6               28.401027  \n",
       "7               18.256667  \n",
       "8               13.172683  \n",
       "9               12.646667  "
      ]
     },
     "execution_count": 5,
     "metadata": {},
     "output_type": "execute_result"
    }
   ],
   "source": [
    "data4=pd.read_csv(\"Medicare_Provider_Charge_Outpatient_APC30_CY2011_v2.csv\")\n",
    "data4.head(10)"
   ]
  },
  {
   "cell_type": "code",
   "execution_count": 10,
   "metadata": {},
   "outputs": [
    {
     "data": {
      "text/html": [
       "<div>\n",
       "<style scoped>\n",
       "    .dataframe tbody tr th:only-of-type {\n",
       "        vertical-align: middle;\n",
       "    }\n",
       "\n",
       "    .dataframe tbody tr th {\n",
       "        vertical-align: top;\n",
       "    }\n",
       "\n",
       "    .dataframe thead th {\n",
       "        text-align: right;\n",
       "    }\n",
       "</style>\n",
       "<table border=\"1\" class=\"dataframe\">\n",
       "  <thead>\n",
       "    <tr style=\"text-align: right;\">\n",
       "      <th></th>\n",
       "      <th>DRG Definition</th>\n",
       "      <th>Total Discharges</th>\n",
       "      <th>Average Covered Charges</th>\n",
       "      <th>Average Total Payments</th>\n",
       "      <th>Average Medicare Payments</th>\n",
       "    </tr>\n",
       "  </thead>\n",
       "  <tbody>\n",
       "    <tr>\n",
       "      <th>0</th>\n",
       "      <td>039 - EXTRACRANIAL PROCEDURES W/O CC/MCC</td>\n",
       "      <td>37861</td>\n",
       "      <td>29228.55368</td>\n",
       "      <td>6902.381289</td>\n",
       "      <td>5514.435910</td>\n",
       "    </tr>\n",
       "    <tr>\n",
       "      <th>1</th>\n",
       "      <td>057 - DEGENERATIVE NERVOUS SYSTEM DISORDERS W/...</td>\n",
       "      <td>37927</td>\n",
       "      <td>23924.98059</td>\n",
       "      <td>6809.799325</td>\n",
       "      <td>5791.920242</td>\n",
       "    </tr>\n",
       "    <tr>\n",
       "      <th>2</th>\n",
       "      <td>064 - INTRACRANIAL HEMORRHAGE OR CEREBRAL INFA...</td>\n",
       "      <td>68163</td>\n",
       "      <td>49186.95644</td>\n",
       "      <td>13614.616130</td>\n",
       "      <td>12415.825360</td>\n",
       "    </tr>\n",
       "    <tr>\n",
       "      <th>3</th>\n",
       "      <td>065 - INTRACRANIAL HEMORRHAGE OR CEREBRAL INFA...</td>\n",
       "      <td>110983</td>\n",
       "      <td>30371.27399</td>\n",
       "      <td>8037.269492</td>\n",
       "      <td>6858.689088</td>\n",
       "    </tr>\n",
       "    <tr>\n",
       "      <th>4</th>\n",
       "      <td>066 - INTRACRANIAL HEMORRHAGE OR CEREBRAL INFA...</td>\n",
       "      <td>62346</td>\n",
       "      <td>23300.06199</td>\n",
       "      <td>5762.881821</td>\n",
       "      <td>4508.202659</td>\n",
       "    </tr>\n",
       "  </tbody>\n",
       "</table>\n",
       "</div>"
      ],
      "text/plain": [
       "                                      DRG Definition  Total Discharges  \\\n",
       "0           039 - EXTRACRANIAL PROCEDURES W/O CC/MCC             37861   \n",
       "1  057 - DEGENERATIVE NERVOUS SYSTEM DISORDERS W/...             37927   \n",
       "2  064 - INTRACRANIAL HEMORRHAGE OR CEREBRAL INFA...             68163   \n",
       "3  065 - INTRACRANIAL HEMORRHAGE OR CEREBRAL INFA...            110983   \n",
       "4  066 - INTRACRANIAL HEMORRHAGE OR CEREBRAL INFA...             62346   \n",
       "\n",
       "   Average Covered Charges  Average Total Payments  Average Medicare Payments  \n",
       "0              29228.55368             6902.381289                5514.435910  \n",
       "1              23924.98059             6809.799325                5791.920242  \n",
       "2              49186.95644            13614.616130               12415.825360  \n",
       "3              30371.27399             8037.269492                6858.689088  \n",
       "4              23300.06199             5762.881821                4508.202659  "
      ]
     },
     "execution_count": 10,
     "metadata": {},
     "output_type": "execute_result"
    }
   ],
   "source": [
    "data1.head()"
   ]
  },
  {
   "cell_type": "code",
   "execution_count": 11,
   "metadata": {},
   "outputs": [
    {
     "data": {
      "text/html": [
       "<div>\n",
       "<style scoped>\n",
       "    .dataframe tbody tr th:only-of-type {\n",
       "        vertical-align: middle;\n",
       "    }\n",
       "\n",
       "    .dataframe tbody tr th {\n",
       "        vertical-align: top;\n",
       "    }\n",
       "\n",
       "    .dataframe thead th {\n",
       "        text-align: right;\n",
       "    }\n",
       "</style>\n",
       "<table border=\"1\" class=\"dataframe\">\n",
       "  <thead>\n",
       "    <tr style=\"text-align: right;\">\n",
       "      <th></th>\n",
       "      <th>DRG Definition</th>\n",
       "      <th>Provider Id</th>\n",
       "      <th>Provider Name</th>\n",
       "      <th>Provider Street Address</th>\n",
       "      <th>Provider City</th>\n",
       "      <th>Provider State</th>\n",
       "      <th>Provider Zip Code</th>\n",
       "      <th>Hospital Referral Region (HRR) Description</th>\n",
       "      <th>Total Discharges</th>\n",
       "      <th>Average Covered Charges</th>\n",
       "      <th>Average Total Payments</th>\n",
       "      <th>Average Medicare Payments</th>\n",
       "    </tr>\n",
       "  </thead>\n",
       "  <tbody>\n",
       "    <tr>\n",
       "      <th>0</th>\n",
       "      <td>039 - EXTRACRANIAL PROCEDURES W/O CC/MCC</td>\n",
       "      <td>10001</td>\n",
       "      <td>SOUTHEAST ALABAMA MEDICAL CENTER</td>\n",
       "      <td>1108 ROSS CLARK CIRCLE</td>\n",
       "      <td>DOTHAN</td>\n",
       "      <td>AL</td>\n",
       "      <td>36301</td>\n",
       "      <td>AL - Dothan</td>\n",
       "      <td>91</td>\n",
       "      <td>32963.07692</td>\n",
       "      <td>5777.241758</td>\n",
       "      <td>4763.736264</td>\n",
       "    </tr>\n",
       "    <tr>\n",
       "      <th>1</th>\n",
       "      <td>039 - EXTRACRANIAL PROCEDURES W/O CC/MCC</td>\n",
       "      <td>10005</td>\n",
       "      <td>MARSHALL MEDICAL CENTER SOUTH</td>\n",
       "      <td>2505 U S HIGHWAY 431 NORTH</td>\n",
       "      <td>BOAZ</td>\n",
       "      <td>AL</td>\n",
       "      <td>35957</td>\n",
       "      <td>AL - Birmingham</td>\n",
       "      <td>14</td>\n",
       "      <td>15131.85714</td>\n",
       "      <td>5787.571429</td>\n",
       "      <td>4976.714286</td>\n",
       "    </tr>\n",
       "    <tr>\n",
       "      <th>2</th>\n",
       "      <td>039 - EXTRACRANIAL PROCEDURES W/O CC/MCC</td>\n",
       "      <td>10006</td>\n",
       "      <td>ELIZA COFFEE MEMORIAL HOSPITAL</td>\n",
       "      <td>205 MARENGO STREET</td>\n",
       "      <td>FLORENCE</td>\n",
       "      <td>AL</td>\n",
       "      <td>35631</td>\n",
       "      <td>AL - Birmingham</td>\n",
       "      <td>24</td>\n",
       "      <td>37560.37500</td>\n",
       "      <td>5434.958333</td>\n",
       "      <td>4453.791667</td>\n",
       "    </tr>\n",
       "    <tr>\n",
       "      <th>3</th>\n",
       "      <td>039 - EXTRACRANIAL PROCEDURES W/O CC/MCC</td>\n",
       "      <td>10011</td>\n",
       "      <td>ST VINCENT'S EAST</td>\n",
       "      <td>50 MEDICAL PARK EAST DRIVE</td>\n",
       "      <td>BIRMINGHAM</td>\n",
       "      <td>AL</td>\n",
       "      <td>35235</td>\n",
       "      <td>AL - Birmingham</td>\n",
       "      <td>25</td>\n",
       "      <td>13998.28000</td>\n",
       "      <td>5417.560000</td>\n",
       "      <td>4129.160000</td>\n",
       "    </tr>\n",
       "    <tr>\n",
       "      <th>4</th>\n",
       "      <td>039 - EXTRACRANIAL PROCEDURES W/O CC/MCC</td>\n",
       "      <td>10016</td>\n",
       "      <td>SHELBY BAPTIST MEDICAL CENTER</td>\n",
       "      <td>1000 FIRST STREET NORTH</td>\n",
       "      <td>ALABASTER</td>\n",
       "      <td>AL</td>\n",
       "      <td>35007</td>\n",
       "      <td>AL - Birmingham</td>\n",
       "      <td>18</td>\n",
       "      <td>31633.27778</td>\n",
       "      <td>5658.333333</td>\n",
       "      <td>4851.444444</td>\n",
       "    </tr>\n",
       "  </tbody>\n",
       "</table>\n",
       "</div>"
      ],
      "text/plain": [
       "                             DRG Definition  Provider Id  \\\n",
       "0  039 - EXTRACRANIAL PROCEDURES W/O CC/MCC        10001   \n",
       "1  039 - EXTRACRANIAL PROCEDURES W/O CC/MCC        10005   \n",
       "2  039 - EXTRACRANIAL PROCEDURES W/O CC/MCC        10006   \n",
       "3  039 - EXTRACRANIAL PROCEDURES W/O CC/MCC        10011   \n",
       "4  039 - EXTRACRANIAL PROCEDURES W/O CC/MCC        10016   \n",
       "\n",
       "                      Provider Name     Provider Street Address Provider City  \\\n",
       "0  SOUTHEAST ALABAMA MEDICAL CENTER      1108 ROSS CLARK CIRCLE        DOTHAN   \n",
       "1     MARSHALL MEDICAL CENTER SOUTH  2505 U S HIGHWAY 431 NORTH          BOAZ   \n",
       "2    ELIZA COFFEE MEMORIAL HOSPITAL          205 MARENGO STREET      FLORENCE   \n",
       "3                 ST VINCENT'S EAST  50 MEDICAL PARK EAST DRIVE    BIRMINGHAM   \n",
       "4     SHELBY BAPTIST MEDICAL CENTER     1000 FIRST STREET NORTH     ALABASTER   \n",
       "\n",
       "  Provider State  Provider Zip Code  \\\n",
       "0             AL              36301   \n",
       "1             AL              35957   \n",
       "2             AL              35631   \n",
       "3             AL              35235   \n",
       "4             AL              35007   \n",
       "\n",
       "  Hospital Referral Region (HRR) Description  Total Discharges  \\\n",
       "0                                AL - Dothan                91   \n",
       "1                            AL - Birmingham                14   \n",
       "2                            AL - Birmingham                24   \n",
       "3                            AL - Birmingham                25   \n",
       "4                            AL - Birmingham                18   \n",
       "\n",
       "   Average Covered Charges  Average Total Payments  Average Medicare Payments  \n",
       "0              32963.07692             5777.241758                4763.736264  \n",
       "1              15131.85714             5787.571429                4976.714286  \n",
       "2              37560.37500             5434.958333                4453.791667  \n",
       "3              13998.28000             5417.560000                4129.160000  \n",
       "4              31633.27778             5658.333333                4851.444444  "
      ]
     },
     "execution_count": 11,
     "metadata": {},
     "output_type": "execute_result"
    }
   ],
   "source": [
    "data3.head()"
   ]
  },
  {
   "cell_type": "code",
   "execution_count": 6,
   "metadata": {
    "scrolled": true
   },
   "outputs": [],
   "source": [
    "variance=pd.DataFrame(columns={'var','drg'})\n",
    "for drg in data3['DRG Definition'].unique():\n",
    "    temp=data3[data3['DRG Definition']==drg]['Average Total Payments']\n",
    "    variance=variance.append({'var':np.var(temp.values),'drg':drg},ignore_index=True)"
   ]
  },
  {
   "cell_type": "code",
   "execution_count": 7,
   "metadata": {},
   "outputs": [],
   "source": [
    "temp=variance.sort_values('var',ascending=False)[:5]"
   ]
  },
  {
   "cell_type": "code",
   "execution_count": 8,
   "metadata": {},
   "outputs": [
    {
     "data": {
      "text/plain": [
       "<matplotlib.axes._subplots.AxesSubplot at 0x2f963837240>"
      ]
     },
     "execution_count": 8,
     "metadata": {},
     "output_type": "execute_result"
    },
    {
     "data": {
      "image/png": "[encoded data removed]",
      "text/plain": [
       "<Figure size 720x720 with 1 Axes>"
      ]
     },
     "metadata": {
      "needs_background": "light"
     },
     "output_type": "display_data"
    }
   ],
   "source": [
    "plt.figure(figsize=(10,10))\n",
    "temp1=pd.DataFrame()\n",
    "for drg in temp['drg']:\n",
    "    temp1=temp1.append(data3[data3['DRG Definition']==drg])\n",
    "sns.boxplot(y='DRG Definition',x='Average Total Payments',data=temp1)"
   ]
  },
  {
   "cell_type": "code",
   "execution_count": 22,
   "metadata": {},
   "outputs": [
    {
     "data": {
      "text/plain": [
       "Index(['APC', 'Provider Id', 'Provider Name', 'Provider Street Address',\n",
       "       'Provider City', 'Provider State', 'Provider Zip Code',\n",
       "       'Hospital Referral Region (HRR) Description', 'Outpatient Services',\n",
       "       'Average  Estimated Submitted Charges', 'Average Total Payments'],\n",
       "      dtype='object')"
      ]
     },
     "execution_count": 22,
     "metadata": {},
     "output_type": "execute_result"
    }
   ],
   "source": [
    "data4.columns"
   ]
  },
  {
   "cell_type": "code",
   "execution_count": 9,
   "metadata": {},
   "outputs": [],
   "source": [
    "variance=pd.DataFrame(columns={'var','drg'})\n",
    "for drg in data4['APC'].unique():\n",
    "    temp=data4[data4['APC']==drg]['Average Total Payments']\n",
    "    variance=variance.append({'var':np.var(temp.values),'drg':drg},ignore_index=True)"
   ]
  },
  {
   "cell_type": "code",
   "execution_count": 10,
   "metadata": {},
   "outputs": [],
   "source": [
    "temp=variance.sort_values('var',ascending=False)[:5]\n"
   ]
  },
  {
   "cell_type": "code",
   "execution_count": 11,
   "metadata": {},
   "outputs": [
    {
     "data": {
      "text/plain": [
       "<matplotlib.axes._subplots.AxesSubplot at 0x2f9636987b8>"
      ]
     },
     "execution_count": 11,
     "metadata": {},
     "output_type": "execute_result"
    },
    {
     "data": {
      "image/png": "[encoded data removed]",
      "text/plain": [
       "<Figure size 720x720 with 1 Axes>"
      ]
     },
     "metadata": {
      "needs_background": "light"
     },
     "output_type": "display_data"
    }
   ],
   "source": [
    "plt.figure(figsize=(10,10))\n",
    "temp1=pd.DataFrame()\n",
    "for drg in temp['drg']:\n",
    "    temp1=temp1.append(data4[data4['APC']==drg])\n",
    "sns.boxplot(y='APC',x='Average Total Payments',data=temp1)"
   ]
  },
  {
   "cell_type": "code",
   "execution_count": 18,
   "metadata": {},
   "outputs": [
    {
     "data": {
      "text/plain": [
       "Index(['DRG Definition', 'Provider Id', 'Provider Name',\n",
       "       'Provider Street Address', 'Provider City', 'Provider State',\n",
       "       'Provider Zip Code', 'Hospital Referral Region (HRR) Description',\n",
       "       'Total Discharges', 'Average Covered Charges', 'Average Total Payments',\n",
       "       'Average Medicare Payments'],\n",
       "      dtype='object')"
      ]
     },
     "execution_count": 18,
     "metadata": {},
     "output_type": "execute_result"
    }
   ],
   "source": [
    "data3.columns"
   ]
  },
  {
   "cell_type": "code",
   "execution_count": 55,
   "metadata": {},
   "outputs": [],
   "source": [
    "max_df=pd.DataFrame(columns={'drg','pname'})\n",
    "for drg in data3['DRG Definition'].unique():\n",
    "    temp=data3[data3['DRG Definition']==drg]\n",
    "    temp=temp[temp['Average Covered Charges']==max(temp['Average Covered Charges'])]\n",
    "    max_df=max_df.append({'drg':drg,'pname':temp['Hospital Referral Region (HRR) Description'].iloc[0]},ignore_index=True)"
   ]
  },
  {
   "cell_type": "code",
   "execution_count": 56,
   "metadata": {},
   "outputs": [
    {
     "data": {
      "text/plain": [
       "<matplotlib.axes._subplots.AxesSubplot at 0x2f966703128>"
      ]
     },
     "execution_count": 56,
     "metadata": {},
     "output_type": "execute_result"
    },
    {
     "data": {
      "image/png": "[encoded data removed]",
      "text/plain": [
       "<Figure size 432x288 with 1 Axes>"
      ]
     },
     "metadata": {
      "needs_background": "light"
     },
     "output_type": "display_data"
    }
   ],
   "source": [
    "max_df['pname'].value_counts()[:5].plot(kind='bar')"
   ]
  },
  {
   "cell_type": "code",
   "execution_count": 57,
   "metadata": {},
   "outputs": [],
   "source": [
    "max_df=pd.DataFrame(columns={'drg','pname'})\n",
    "for drg in data4['APC'].unique():\n",
    "    temp=data4[data4['APC']==drg]\n",
    "    temp=temp[temp['Average  Estimated Submitted Charges']==max(temp['Average  Estimated Submitted Charges'])]\n",
    "    max_df=max_df.append({'drg':drg,'pname':temp['Hospital Referral Region (HRR) Description'].iloc[0]},ignore_index=True)"
   ]
  },
  {
   "cell_type": "code",
   "execution_count": 58,
   "metadata": {},
   "outputs": [
    {
     "data": {
      "text/plain": [
       "<matplotlib.axes._subplots.AxesSubplot at 0x2f96668c048>"
      ]
     },
     "execution_count": 58,
     "metadata": {},
     "output_type": "execute_result"
    },
    {
     "data": {
      "image/png": "[encoded data removed]",
      "text/plain": [
       "<Figure size 432x288 with 1 Axes>"
      ]
     },
     "metadata": {
      "needs_background": "light"
     },
     "output_type": "display_data"
    }
   ],
   "source": [
    "max_df['pname'].value_counts()[:5].plot(kind='bar')"
   ]
  },
  {
   "cell_type": "code",
   "execution_count": 51,
   "metadata": {},
   "outputs": [],
   "source": [
    "max_df=pd.DataFrame(columns={'drg','pname'})\n",
    "for drg in data3['DRG Definition'].unique():\n",
    "    temp=data3[data3['DRG Definition']==drg]\n",
    "    temp=temp[temp['Average Covered Charges']==max(temp['Average Covered Charges'])]\n",
    "    max_df=max_df.append({'drg':drg,'pname':temp['Provider Name'].iloc[0]},ignore_index=True)"
   ]
  },
  {
   "cell_type": "code",
   "execution_count": 53,
   "metadata": {},
   "outputs": [
    {
     "data": {
      "text/plain": [
       "<matplotlib.axes._subplots.AxesSubplot at 0x2f96666a358>"
      ]
     },
     "execution_count": 53,
     "metadata": {},
     "output_type": "execute_result"
    },
    {
     "data": {
      "image/png": "[encoded data removed]",
      "text/plain": [
       "<Figure size 432x288 with 1 Axes>"
      ]
     },
     "metadata": {
      "needs_background": "light"
     },
     "output_type": "display_data"
    }
   ],
   "source": [
    "max_df['pname'].value_counts()[:5].plot(kind='bar')"
   ]
  },
  {
   "cell_type": "code",
   "execution_count": 48,
   "metadata": {},
   "outputs": [],
   "source": [
    "max_df=pd.DataFrame(columns={'drg','pname'})\n",
    "for drg in data4['APC'].unique():\n",
    "    temp=data4[data4['APC']==drg]\n",
    "    temp=temp[temp['Average  Estimated Submitted Charges']==max(temp['Average  Estimated Submitted Charges'])]\n",
    "    max_df=max_df.append({'drg':drg,'pname':temp['Provider Name'].iloc[0]},ignore_index=True)"
   ]
  },
  {
   "cell_type": "code",
   "execution_count": 49,
   "metadata": {},
   "outputs": [
    {
     "data": {
      "text/plain": [
       "<matplotlib.axes._subplots.AxesSubplot at 0x2f966638f98>"
      ]
     },
     "execution_count": 49,
     "metadata": {},
     "output_type": "execute_result"
    },
    {
     "data": {
      "image/png": "[encoded data removed]",
      "text/plain": [
       "<Figure size 432x288 with 1 Axes>"
      ]
     },
     "metadata": {
      "needs_background": "light"
     },
     "output_type": "display_data"
    }
   ],
   "source": [
    "max_df['pname'].value_counts()[:5].plot(kind='bar')"
   ]
  },
  {
   "cell_type": "code",
   "execution_count": 60,
   "metadata": {},
   "outputs": [],
   "source": [
    "copy_data=data3.copy()"
   ]
  },
  {
   "cell_type": "code",
   "execution_count": 61,
   "metadata": {},
   "outputs": [
    {
     "data": {
      "text/plain": [
       "Index(['DRG Definition', 'Provider Id', 'Provider Name',\n",
       "       'Provider Street Address', 'Provider City', 'Provider State',\n",
       "       'Provider Zip Code', 'Hospital Referral Region (HRR) Description',\n",
       "       'Total Discharges', 'Average Covered Charges', 'Average Total Payments',\n",
       "       'Average Medicare Payments'],\n",
       "      dtype='object')"
      ]
     },
     "execution_count": 61,
     "metadata": {},
     "output_type": "execute_result"
    }
   ],
   "source": [
    "copy_data.columns"
   ]
  },
  {
   "cell_type": "code",
   "execution_count": 63,
   "metadata": {},
   "outputs": [],
   "source": [
    "copy_data.drop(columns={'Provider Name','Provider Street Address','Provider City','Provider State','Provider Zip Code'},axis=1,inplace=True)"
   ]
  },
  {
   "cell_type": "code",
   "execution_count": 65,
   "metadata": {},
   "outputs": [],
   "source": [
    "copy_data.drop(columns={'Provider Id'},axis=1,inplace=True)"
   ]
  },
  {
   "cell_type": "code",
   "execution_count": 71,
   "metadata": {},
   "outputs": [],
   "source": [
    "copy_data=copy_data.join(pd.get_dummies(copy_data['DRG Definition']))"
   ]
  },
  {
   "cell_type": "code",
   "execution_count": 73,
   "metadata": {},
   "outputs": [],
   "source": [
    "copy_data=copy_data.join(pd.get_dummies(copy_data['Hospital Referral Region (HRR) Description']))"
   ]
  },
  {
   "cell_type": "code",
   "execution_count": 74,
   "metadata": {},
   "outputs": [],
   "source": [
    "copy_data.drop(columns={'DRG Definition','Hospital Referral Region (HRR) Description'},axis=1,inplace=True)"
   ]
  },
  {
   "cell_type": "code",
   "execution_count": 75,
   "metadata": {},
   "outputs": [],
   "source": [
    "from sklearn.cluster import KMeans\n",
    "import sklearn.cluster as cluster\n",
    "import time"
   ]
  },
  {
   "cell_type": "code",
   "execution_count": 76,
   "metadata": {},
   "outputs": [
    {
     "ename": "KeyboardInterrupt",
     "evalue": "",
     "output_type": "error",
     "traceback": [
      "\u001b[1;31m---------------------------------------------------------------------------\u001b[0m",
      "\u001b[1;31mKeyboardInterrupt\u001b[0m                         Traceback (most recent call last)",
      "\u001b[1;32m<ipython-input-76-21362e362cec>\u001b[0m in \u001b[0;36m<module>\u001b[1;34m()\u001b[0m\n\u001b[0;32m      3\u001b[0m \u001b[1;32mfor\u001b[0m \u001b[0mk\u001b[0m \u001b[1;32min\u001b[0m \u001b[0mK\u001b[0m\u001b[1;33m:\u001b[0m\u001b[1;33m\u001b[0m\u001b[0m\n\u001b[0;32m      4\u001b[0m     \u001b[0mkmeanModel\u001b[0m \u001b[1;33m=\u001b[0m \u001b[0mKMeans\u001b[0m\u001b[1;33m(\u001b[0m\u001b[0mn_clusters\u001b[0m\u001b[1;33m=\u001b[0m\u001b[0mk\u001b[0m\u001b[1;33m)\u001b[0m\u001b[1;33m\u001b[0m\u001b[0m\n\u001b[1;32m----> 5\u001b[1;33m     \u001b[0mkmeanModel\u001b[0m\u001b[1;33m.\u001b[0m\u001b[0mfit\u001b[0m\u001b[1;33m(\u001b[0m\u001b[0mcopy_data\u001b[0m\u001b[1;33m)\u001b[0m\u001b[1;33m\u001b[0m\u001b[0m\n\u001b[0m\u001b[0;32m      6\u001b[0m     \u001b[0mdistortions\u001b[0m\u001b[1;33m.\u001b[0m\u001b[0mappend\u001b[0m\u001b[1;33m(\u001b[0m\u001b[0mkmeanModel\u001b[0m\u001b[1;33m.\u001b[0m\u001b[0minertia_\u001b[0m\u001b[1;33m)\u001b[0m\u001b[1;33m\u001b[0m\u001b[0m\n",
      "\u001b[1;32m~\\Anaconda3\\lib\\site-packages\\sklearn\\cluster\\k_means_.py\u001b[0m in \u001b[0;36mfit\u001b[1;34m(self, X, y)\u001b[0m\n\u001b[0;32m    894\u001b[0m                 \u001b[0mtol\u001b[0m\u001b[1;33m=\u001b[0m\u001b[0mself\u001b[0m\u001b[1;33m.\u001b[0m\u001b[0mtol\u001b[0m\u001b[1;33m,\u001b[0m \u001b[0mrandom_state\u001b[0m\u001b[1;33m=\u001b[0m\u001b[0mrandom_state\u001b[0m\u001b[1;33m,\u001b[0m \u001b[0mcopy_x\u001b[0m\u001b[1;33m=\u001b[0m\u001b[0mself\u001b[0m\u001b[1;33m.\u001b[0m\u001b[0mcopy_x\u001b[0m\u001b[1;33m,\u001b[0m\u001b[1;33m\u001b[0m\u001b[0m\n\u001b[0;32m    895\u001b[0m                 \u001b[0mn_jobs\u001b[0m\u001b[1;33m=\u001b[0m\u001b[0mself\u001b[0m\u001b[1;33m.\u001b[0m\u001b[0mn_jobs\u001b[0m\u001b[1;33m,\u001b[0m \u001b[0malgorithm\u001b[0m\u001b[1;33m=\u001b[0m\u001b[0mself\u001b[0m\u001b[1;33m.\u001b[0m\u001b[0malgorithm\u001b[0m\u001b[1;33m,\u001b[0m\u001b[1;33m\u001b[0m\u001b[0m\n\u001b[1;32m--> 896\u001b[1;33m                 return_n_iter=True)\n\u001b[0m\u001b[0;32m    897\u001b[0m         \u001b[1;32mreturn\u001b[0m \u001b[0mself\u001b[0m\u001b[1;33m\u001b[0m\u001b[0m\n\u001b[0;32m    898\u001b[0m \u001b[1;33m\u001b[0m\u001b[0m\n",
      "\u001b[1;32m~\\Anaconda3\\lib\\site-packages\\sklearn\\cluster\\k_means_.py\u001b[0m in \u001b[0;36mk_means\u001b[1;34m(X, n_clusters, init, precompute_distances, n_init, max_iter, verbose, tol, random_state, copy_x, n_jobs, algorithm, return_n_iter)\u001b[0m\n\u001b[0;32m    344\u001b[0m                 \u001b[0mX\u001b[0m\u001b[1;33m,\u001b[0m \u001b[0mn_clusters\u001b[0m\u001b[1;33m,\u001b[0m \u001b[0mmax_iter\u001b[0m\u001b[1;33m=\u001b[0m\u001b[0mmax_iter\u001b[0m\u001b[1;33m,\u001b[0m \u001b[0minit\u001b[0m\u001b[1;33m=\u001b[0m\u001b[0minit\u001b[0m\u001b[1;33m,\u001b[0m \u001b[0mverbose\u001b[0m\u001b[1;33m=\u001b[0m\u001b[0mverbose\u001b[0m\u001b[1;33m,\u001b[0m\u001b[1;33m\u001b[0m\u001b[0m\n\u001b[0;32m    345\u001b[0m                 \u001b[0mprecompute_distances\u001b[0m\u001b[1;33m=\u001b[0m\u001b[0mprecompute_distances\u001b[0m\u001b[1;33m,\u001b[0m \u001b[0mtol\u001b[0m\u001b[1;33m=\u001b[0m\u001b[0mtol\u001b[0m\u001b[1;33m,\u001b[0m\u001b[1;33m\u001b[0m\u001b[0m\n\u001b[1;32m--> 346\u001b[1;33m                 x_squared_norms=x_squared_norms, random_state=random_state)\n\u001b[0m\u001b[0;32m    347\u001b[0m             \u001b[1;31m# determine if these results are the best so far\u001b[0m\u001b[1;33m\u001b[0m\u001b[1;33m\u001b[0m\u001b[0m\n\u001b[0;32m    348\u001b[0m             \u001b[1;32mif\u001b[0m \u001b[0mbest_inertia\u001b[0m \u001b[1;32mis\u001b[0m \u001b[1;32mNone\u001b[0m \u001b[1;32mor\u001b[0m \u001b[0minertia\u001b[0m \u001b[1;33m<\u001b[0m \u001b[0mbest_inertia\u001b[0m\u001b[1;33m:\u001b[0m\u001b[1;33m\u001b[0m\u001b[0m\n",
      "\u001b[1;32m~\\Anaconda3\\lib\\site-packages\\sklearn\\cluster\\k_means_.py\u001b[0m in \u001b[0;36m_kmeans_single_elkan\u001b[1;34m(X, n_clusters, max_iter, init, verbose, x_squared_norms, random_state, tol, precompute_distances)\u001b[0m\n\u001b[0;32m    398\u001b[0m         \u001b[0mprint\u001b[0m\u001b[1;33m(\u001b[0m\u001b[1;34m'Initialization complete'\u001b[0m\u001b[1;33m)\u001b[0m\u001b[1;33m\u001b[0m\u001b[0m\n\u001b[0;32m    399\u001b[0m     centers, labels, n_iter = k_means_elkan(X, n_clusters, centers, tol=tol,\n\u001b[1;32m--> 400\u001b[1;33m                                             max_iter=max_iter, verbose=verbose)\n\u001b[0m\u001b[0;32m    401\u001b[0m     \u001b[0minertia\u001b[0m \u001b[1;33m=\u001b[0m \u001b[0mnp\u001b[0m\u001b[1;33m.\u001b[0m\u001b[0msum\u001b[0m\u001b[1;33m(\u001b[0m\u001b[1;33m(\u001b[0m\u001b[0mX\u001b[0m \u001b[1;33m-\u001b[0m \u001b[0mcenters\u001b[0m\u001b[1;33m[\u001b[0m\u001b[0mlabels\u001b[0m\u001b[1;33m]\u001b[0m\u001b[1;33m)\u001b[0m \u001b[1;33m**\u001b[0m \u001b[1;36m2\u001b[0m\u001b[1;33m,\u001b[0m \u001b[0mdtype\u001b[0m\u001b[1;33m=\u001b[0m\u001b[0mnp\u001b[0m\u001b[1;33m.\u001b[0m\u001b[0mfloat64\u001b[0m\u001b[1;33m)\u001b[0m\u001b[1;33m\u001b[0m\u001b[0m\n\u001b[0;32m    402\u001b[0m     \u001b[1;32mreturn\u001b[0m \u001b[0mlabels\u001b[0m\u001b[1;33m,\u001b[0m \u001b[0minertia\u001b[0m\u001b[1;33m,\u001b[0m \u001b[0mcenters\u001b[0m\u001b[1;33m,\u001b[0m \u001b[0mn_iter\u001b[0m\u001b[1;33m\u001b[0m\u001b[0m\n",
      "\u001b[1;32msklearn\\cluster\\_k_means_elkan.pyx\u001b[0m in \u001b[0;36msklearn.cluster._k_means_elkan.k_means_elkan\u001b[1;34m()\u001b[0m\n",
      "\u001b[1;32m~\\Anaconda3\\lib\\site-packages\\numpy\\core\\fromnumeric.py\u001b[0m in \u001b[0;36msum\u001b[1;34m(a, axis, dtype, out, keepdims, initial)\u001b[0m\n\u001b[0;32m   1819\u001b[0m \u001b[1;33m\u001b[0m\u001b[0m\n\u001b[0;32m   1820\u001b[0m \u001b[1;33m\u001b[0m\u001b[0m\n\u001b[1;32m-> 1821\u001b[1;33m \u001b[1;32mdef\u001b[0m \u001b[0msum\u001b[0m\u001b[1;33m(\u001b[0m\u001b[0ma\u001b[0m\u001b[1;33m,\u001b[0m \u001b[0maxis\u001b[0m\u001b[1;33m=\u001b[0m\u001b[1;32mNone\u001b[0m\u001b[1;33m,\u001b[0m \u001b[0mdtype\u001b[0m\u001b[1;33m=\u001b[0m\u001b[1;32mNone\u001b[0m\u001b[1;33m,\u001b[0m \u001b[0mout\u001b[0m\u001b[1;33m=\u001b[0m\u001b[1;32mNone\u001b[0m\u001b[1;33m,\u001b[0m \u001b[0mkeepdims\u001b[0m\u001b[1;33m=\u001b[0m\u001b[0mnp\u001b[0m\u001b[1;33m.\u001b[0m\u001b[0m_NoValue\u001b[0m\u001b[1;33m,\u001b[0m \u001b[0minitial\u001b[0m\u001b[1;33m=\u001b[0m\u001b[0mnp\u001b[0m\u001b[1;33m.\u001b[0m\u001b[0m_NoValue\u001b[0m\u001b[1;33m)\u001b[0m\u001b[1;33m:\u001b[0m\u001b[1;33m\u001b[0m\u001b[0m\n\u001b[0m\u001b[0;32m   1822\u001b[0m     \"\"\"\n\u001b[0;32m   1823\u001b[0m     \u001b[0mSum\u001b[0m \u001b[0mof\u001b[0m \u001b[0marray\u001b[0m \u001b[0melements\u001b[0m \u001b[0mover\u001b[0m \u001b[0ma\u001b[0m \u001b[0mgiven\u001b[0m \u001b[0maxis\u001b[0m\u001b[1;33m.\u001b[0m\u001b[1;33m\u001b[0m\u001b[0m\n",
      "\u001b[1;31mKeyboardInterrupt\u001b[0m: "
     ]
    }
   ],
   "source": [
    "distortions = []\n",
    "K = range(1,12)\n",
    "for k in K:\n",
    "    kmeanModel = KMeans(n_clusters=k)\n",
    "    kmeanModel.fit(copy_data)\n",
    "    distortions.append(kmeanModel.inertia_)"
   ]
  },
  {
   "cell_type": "code",
   "execution_count": null,
   "metadata": {},
   "outputs": [],
   "source": [
    "plt.plot(K, distortions, 'bx-')\n",
    "plt.xlabel('k')\n",
    "plt.ylabel('Distortion')\n",
    "plt.title('The Elbow Method showing the optimal k')\n",
    "plt.show()"
   ]
  }
 ],
 "metadata": {
  "kernelspec": {
   "display_name": "Python 3",
   "language": "python",
   "name": "python3"
  },
  "language_info": {
   "codemirror_mode": {
    "name": "ipython",
    "version": 3
   },
   "file_extension": ".py",
   "mimetype": "text/x-python",
   "name": "python",
   "nbconvert_exporter": "python",
   "pygments_lexer": "ipython3",
   "version": "3.6.6"
  }
 },
 "nbformat": 4,
 "nbformat_minor": 2
}
